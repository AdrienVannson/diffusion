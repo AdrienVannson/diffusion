{
 "cells": [
  {
   "cell_type": "code",
   "execution_count": null,
   "metadata": {},
   "outputs": [],
   "source": [
    "%load_ext autoreload\n",
    "%autoreload 2\n",
    "\n",
    "import torch\n",
    "import torchvision\n",
    "from torch import nn\n",
    "from tqdm import tqdm\n",
    "\n",
    "from matplotlib import pyplot as plt\n",
    "import numpy as np\n",
    "\n",
    "import math\n",
    "import sys\n",
    "\n",
    "# Mount Google Drive if executed on Google Colab\n",
    "try:\n",
    "    from google.colab import drive\n",
    "\n",
    "    drive.mount('/content/gdrive/')\n",
    "    sys.path.append('/content/gdrive/MyDrive/GenAI')\n",
    "except:\n",
    "    print(\"Not running on Google Colab\")\n",
    "\n",
    "from images import show_grid\n",
    "from model import Model\n",
    "\n",
    "device = torch.device('cuda:0' if torch.cuda.is_available() else 'cpu')\n",
    "print(\"Device:\", device)"
   ]
  },
  {
   "cell_type": "code",
   "execution_count": null,
   "metadata": {},
   "outputs": [],
   "source": [
    "NB_STEPS = 1000 - 1\n",
    "NB_EPOCHS = 10\n",
    "LEARNING_RATE = 1e-4\n",
    "BATCH_SIZE = 512"
   ]
  },
  {
   "cell_type": "code",
   "execution_count": null,
   "metadata": {},
   "outputs": [],
   "source": [
    "# Download the dataset\n",
    "cifar10 = torchvision.datasets.CIFAR10(root='./data', train=True, download=True)\n",
    "\n",
    "print(\"Classes:\", *cifar10.classes)"
   ]
  },
  {
   "cell_type": "code",
   "execution_count": null,
   "metadata": {},
   "outputs": [],
   "source": [
    "# Extract a category of images\n",
    "real_images = cifar10.data[ [i for i, t in enumerate(cifar10.targets) if t == cifar10.classes.index('automobile')] ] / (255 / 2) - 1\n",
    "\n",
    "real_images = real_images[:2] # TODEL\n",
    "\n",
    "# Use floats\n",
    "real_images = np.array(real_images, dtype=np.float32)\n",
    "\n",
    "# Put the channel at the end\n",
    "real_images = np.swapaxes(real_images, 1, 3)\n",
    "\n",
    "show_grid(real_images[:25])"
   ]
  },
  {
   "cell_type": "code",
   "execution_count": null,
   "metadata": {},
   "outputs": [],
   "source": [
    "def get_beta(step):\n",
    "    return 0.0001 + (step / NB_STEPS) * 0.02\n",
    "\n",
    "# Adds one or several times noise to an image\n",
    "def add_noise(img, first_step, last_step = -1):\n",
    "    if last_step == -1:\n",
    "        last_step = first_step + 1\n",
    "\n",
    "    alpha = 1\n",
    "    for k in range(first_step, last_step):\n",
    "        alpha *= (1 - get_beta(k))\n",
    "\n",
    "    return math.sqrt(alpha) * img + np.random.normal(scale=math.sqrt(1 - alpha), size=img.shape)"
   ]
  },
  {
   "cell_type": "code",
   "execution_count": null,
   "metadata": {},
   "outputs": [],
   "source": [
    "# Add noise to an image progressively\n",
    "noisy = [real_images[0]]\n",
    "\n",
    "for k in range(NB_STEPS):\n",
    "    noisy.append(add_noise(noisy[-1], k))\n",
    "\n",
    "show_grid(np.array(noisy[::20]))\n",
    "\n",
    "del noisy"
   ]
  },
  {
   "cell_type": "code",
   "execution_count": null,
   "metadata": {},
   "outputs": [],
   "source": [
    "# Add noise from the beginning each time\n",
    "noisy = [real_images[0]]\n",
    "\n",
    "for k in range(NB_STEPS):\n",
    "    noisy.append(add_noise(noisy[0], 0, k + 1))\n",
    "\n",
    "show_grid(np.array(noisy[::20]))\n",
    "\n",
    "del noisy"
   ]
  },
  {
   "cell_type": "markdown",
   "metadata": {},
   "source": [
    "## Training"
   ]
  },
  {
   "cell_type": "code",
   "execution_count": null,
   "metadata": {},
   "outputs": [],
   "source": [
    "model = Model().to(device)\n",
    "\n",
    "optimizer = torch.optim.Adam(model.parameters(), lr=LEARNING_RATE)\n",
    "loss_fn = nn.MSELoss()\n",
    "\n",
    "data_loader = torch.utils.data.DataLoader(real_images, batch_size=BATCH_SIZE, shuffle=True)"
   ]
  },
  {
   "cell_type": "code",
   "execution_count": null,
   "metadata": {},
   "outputs": [],
   "source": [
    "model.train()\n",
    "\n",
    "loss_hist, diff_loss_hist = [], []\n",
    "\n",
    "for epoch in tqdm(range(NB_EPOCHS)):\n",
    "    \n",
    "    for batch, images in enumerate(data_loader):\n",
    "        images = images.to(device)\n",
    "\n",
    "        # Generate noisy images\n",
    "        err = torch.normal(mean=torch.zeros(images.shape), std=torch.ones(images.shape)).to(device)\n",
    "\n",
    "        steps = torch.randint(0, NB_STEPS, size=(len(images), 1, 1, 1)).to(device)\n",
    "\n",
    "        alphas = torch.ones(steps.shape)\n",
    "        for k in range(NB_STEPS):\n",
    "            alphas = (steps > 0) * alphas * (1 - get_beta(k)) + (steps <= 0) * alphas\n",
    "        alphas = alphas.to(device).repeat(1, *images.shape[1:])\n",
    "\n",
    "        noisy_images = torch.sqrt(alphas) * images + torch.sqrt(1 - alphas) * err\n",
    "\n",
    "        times = steps.squeeze(1).squeeze(1).squeeze(1) / NB_STEPS\n",
    "\n",
    "        # Train the model on them\n",
    "        optimizer.zero_grad()\n",
    "\n",
    "        pred_err = model(noisy_images, times)\n",
    "\n",
    "        loss = loss_fn(pred_err, err)\n",
    "        loss_hist.append(loss.item())\n",
    "\n",
    "        loss.backward()\n",
    "        optimizer.step()\n",
    "\n",
    "        # Compute the \n",
    "        with torch.no_grad():\n",
    "            loss_0 = loss_fn(torch.zeros(err.shape), err.cpu())\n",
    "\n",
    "            # The value should progressively become negative\n",
    "            diff_loss_hist.append(loss.item() - loss_0.item())\n",
    "\n",
    "        del images, err, steps, alphas, noisy_images, times"
   ]
  },
  {
   "cell_type": "code",
   "execution_count": null,
   "metadata": {},
   "outputs": [],
   "source": [
    "plt.figure()\n",
    "plt.plot(diff_loss_hist)\n",
    "plt.show()"
   ]
  },
  {
   "cell_type": "code",
   "execution_count": null,
   "metadata": {},
   "outputs": [],
   "source": [
    "plt.figure()\n",
    "plt.plot(loss_hist, label=\"Train loss\")\n",
    "plt.legend()\n",
    "plt.show()"
   ]
  },
  {
   "cell_type": "markdown",
   "metadata": {},
   "source": [
    "## Evaluation"
   ]
  },
  {
   "cell_type": "code",
   "execution_count": null,
   "metadata": {},
   "outputs": [],
   "source": [
    "def generate_image():\n",
    "    # Avoids memory problems. TODO: improve\n",
    "    model_cpu = model.cpu()\n",
    "    model_cpu.eval()\n",
    "\n",
    "    noisy = np.random.normal(size=(3, 32, 32))\n",
    "\n",
    "    denoised = [torch.Tensor([noisy])]\n",
    "\n",
    "    for k in tqdm(range(NB_STEPS-1, -1, -1)):\n",
    "        t = k / NB_STEPS\n",
    "        im = denoised[-1]\n",
    "        pred = model_cpu(im, torch.Tensor([t]))\n",
    "\n",
    "        alpha = 1\n",
    "        for i in range(k+1):\n",
    "            alpha *= (1 - get_beta(i))\n",
    "\n",
    "        denoised.append((\n",
    "            (im - get_beta(k) / math.sqrt(1 - alpha) * pred) / math.sqrt(1 - get_beta(k)) +\n",
    "            math.sqrt(get_beta(k)) * torch.Tensor(np.random.normal(size=(3, 32, 32)))   \n",
    "        ).cpu())\n",
    "\n",
    "    show_grid(np.array([d.detach().cpu().numpy().squeeze(0) for d in denoised[::20]]))\n",
    "\n",
    "generate_image()"
   ]
  }
 ],
 "metadata": {
  "kernelspec": {
   "display_name": "epfl-dlb",
   "language": "python",
   "name": "python3"
  },
  "language_info": {
   "codemirror_mode": {
    "name": "ipython",
    "version": 3
   },
   "file_extension": ".py",
   "mimetype": "text/x-python",
   "name": "python",
   "nbconvert_exporter": "python",
   "pygments_lexer": "ipython3",
   "version": "3.11.5"
  }
 },
 "nbformat": 4,
 "nbformat_minor": 2
}
