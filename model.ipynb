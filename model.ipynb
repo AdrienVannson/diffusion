{
 "cells": [
  {
   "cell_type": "code",
   "execution_count": null,
   "metadata": {},
   "outputs": [],
   "source": [
    "%load_ext autoreload\n",
    "%autoreload 2\n",
    "\n",
    "import torch\n",
    "import torchvision\n",
    "from torch import nn\n",
    "from tqdm import tqdm\n",
    "\n",
    "from matplotlib import pyplot as plt\n",
    "import numpy as np\n",
    "\n",
    "import math\n",
    "import sys\n",
    "\n",
    "# Mount Google Drive if executed on Google Colab\n",
    "try:\n",
    "    from google.colab import drive\n",
    "\n",
    "    drive.mount('/content/gdrive/')\n",
    "    sys.path.append('/content/gdrive/MyDrive/GenAI')\n",
    "except:\n",
    "    print(\"Not running on Google Colab\")\n",
    "\n",
    "from images import show_grid\n",
    "from model import Model\n",
    "\n",
    "device = torch.device('cuda:0' if torch.cuda.is_available() else 'cpu')\n",
    "print(\"Device:\", device)"
   ]
  },
  {
   "cell_type": "code",
   "execution_count": null,
   "metadata": {},
   "outputs": [],
   "source": [
    "# Download the dataset\n",
    "cifar10 = torchvision.datasets.CIFAR10(root='./data', train=True, download=True)\n",
    "\n",
    "print(\"Classes:\", *cifar10.classes)"
   ]
  },
  {
   "cell_type": "code",
   "execution_count": null,
   "metadata": {},
   "outputs": [],
   "source": [
    "# Extract a category of images\n",
    "real_images = cifar10.data[ [i for i, t in enumerate(cifar10.targets) if t == cifar10.classes.index('automobile')] ] / 256\n",
    "\n",
    "# Use floats\n",
    "real_images = np.array(real_images, dtype=np.float32)\n",
    "\n",
    "# Put the channel at the end\n",
    "real_images = np.swapaxes(real_images, 1, 3)\n",
    "\n",
    "show_grid(real_images)"
   ]
  },
  {
   "cell_type": "code",
   "execution_count": null,
   "metadata": {},
   "outputs": [],
   "source": [
    "# As defined in https://theaisummer.com/diffusion-models/#forward-diffusion\n",
    "def add_noise(img, beta):\n",
    "    return math.sqrt(1 - beta) * img + np.random.normal(scale=math.sqrt(beta), size=img.shape)"
   ]
  },
  {
   "cell_type": "code",
   "execution_count": null,
   "metadata": {},
   "outputs": [],
   "source": [
    "# Add noise to an image\n",
    "noisy = [real_images[0]]\n",
    "\n",
    "for t in range(25):\n",
    "    noisy.append(add_noise(noisy[-1], 0.005 + t/24 * 0.05))\n",
    "\n",
    "show_grid(np.array(noisy))"
   ]
  },
  {
   "cell_type": "code",
   "execution_count": null,
   "metadata": {},
   "outputs": [],
   "source": [
    "# Generate noise for all the images\n",
    "pairs = []\n",
    "\n",
    "for i in tqdm(range(len(real_images))):\n",
    "\n",
    "    im = real_images[i] - 0.5\n",
    "\n",
    "    for t in range(24):\n",
    "        noised = add_noise(im, 0.005 + t/24 * 0.05)\n",
    "        pairs.append((np.array(im, dtype=np.float32), np.array(noised, dtype=np.float32), np.array(t / 25, dtype=np.float32)))\n",
    "        im = noised"
   ]
  },
  {
   "cell_type": "markdown",
   "metadata": {},
   "source": [
    "## Training"
   ]
  },
  {
   "cell_type": "code",
   "execution_count": null,
   "metadata": {},
   "outputs": [],
   "source": [
    "model = Model().to(device)\n",
    "\n",
    "optimizer = torch.optim.Adam(model.parameters(), lr=0.001)\n",
    "loss_fn = nn.L1Loss()\n",
    "\n",
    "data_loader = torch.utils.data.DataLoader(pairs, batch_size=1024, shuffle=True)"
   ]
  },
  {
   "cell_type": "code",
   "execution_count": null,
   "metadata": {},
   "outputs": [],
   "source": [
    "model.train()\n",
    "\n",
    "loss_hist = []\n",
    "\n",
    "for epoch in tqdm(range(20)):\n",
    "    \n",
    "    for batch, (target, noised, time) in enumerate(data_loader):\n",
    "        optimizer.zero_grad()\n",
    "\n",
    "        target = target.to(device)\n",
    "        noised = noised.to(device)\n",
    "        time = time.to(device)\n",
    "\n",
    "        pred = model(noised, time)\n",
    "\n",
    "        loss = loss_fn(pred, target)\n",
    "        loss_hist.append(loss.item())\n",
    "\n",
    "        loss.backward()\n",
    "        optimizer.step()"
   ]
  },
  {
   "cell_type": "code",
   "execution_count": null,
   "metadata": {},
   "outputs": [],
   "source": [
    "plt.plot(loss_hist)"
   ]
  },
  {
   "cell_type": "markdown",
   "metadata": {},
   "source": [
    "## Evaluation"
   ]
  },
  {
   "cell_type": "code",
   "execution_count": null,
   "metadata": {},
   "outputs": [],
   "source": [
    "def generate_image():\n",
    "    noisy = [np.zeros((3, 32, 32))]\n",
    "    for t in range(25):\n",
    "        noisy.append(add_noise(noisy[-1], 0.005 + t/24 * 0.05))\n",
    "    \n",
    "    denoised = [torch.Tensor([noisy[-1]]).to(device)]\n",
    "\n",
    "    for i in range(25):\n",
    "        denoised.append(model(denoised[-1], torch.Tensor([(24-i) / 25]).to(device)))\n",
    "    \n",
    "    show_grid(np.array([d.detach().cpu().numpy().squeeze(0) for d in denoised]))\n",
    "\n",
    "generate_image()"
   ]
  },
  {
   "cell_type": "code",
   "execution_count": null,
   "metadata": {},
   "outputs": [],
   "source": [
    "pair = pairs[0]\n",
    "\n",
    "fig, axes = plt.subplots(1, 3, figsize=(6, 6))\n",
    "\n",
    "axes[0].imshow(np.swapaxes(pair[0], 0, 2) + 0.5)\n",
    "axes[0].axis('off')\n",
    "\n",
    "axes[1].imshow(np.swapaxes(pair[1], 0, 2) + 0.5)\n",
    "axes[1].axis('off')\n",
    "\n",
    "pred = model(torch.Tensor(pair[1]).to(device).unsqueeze(0), torch.Tensor(pair[2]).to(device).unsqueeze(0)).squeeze()\n",
    "axes[2].imshow(np.swapaxes(pred.detach().cpu().numpy(), 0, 2))\n",
    "axes[2].axis('off')\n",
    "\n",
    "plt.tight_layout()\n",
    "plt.show()"
   ]
  }
 ],
 "metadata": {
  "kernelspec": {
   "display_name": "epfl-dlb",
   "language": "python",
   "name": "python3"
  },
  "language_info": {
   "codemirror_mode": {
    "name": "ipython",
    "version": 3
   },
   "file_extension": ".py",
   "mimetype": "text/x-python",
   "name": "python",
   "nbconvert_exporter": "python",
   "pygments_lexer": "ipython3",
   "version": "3.11.5"
  }
 },
 "nbformat": 4,
 "nbformat_minor": 2
}
