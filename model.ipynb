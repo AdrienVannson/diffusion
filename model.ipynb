{
 "cells": [
  {
   "cell_type": "code",
   "execution_count": null,
   "metadata": {},
   "outputs": [],
   "source": [
    "%load_ext autoreload\n",
    "%autoreload 2\n",
    "\n",
    "import torch\n",
    "import torchvision\n",
    "from torch import nn\n",
    "from tqdm import tqdm\n",
    "\n",
    "from matplotlib import pyplot as plt\n",
    "import numpy as np\n",
    "\n",
    "import math\n",
    "import sys\n",
    "\n",
    "# Mount Google Drive if executed on Google Colab\n",
    "try:\n",
    "    from google.colab import drive\n",
    "\n",
    "    drive.mount('/content/gdrive/')\n",
    "    sys.path.append('/content/gdrive/MyDrive/GenAI')\n",
    "except:\n",
    "    print(\"Not running on Google Colab\")\n",
    "\n",
    "from images import show_grid\n",
    "from model import Model\n",
    "\n",
    "device = torch.device('cuda:0' if torch.cuda.is_available() else 'cpu')\n",
    "print(\"Device:\", device)"
   ]
  },
  {
   "cell_type": "code",
   "execution_count": null,
   "metadata": {},
   "outputs": [],
   "source": [
    "NB_STEPS = 100 - 1\n",
    "NB_EPOCHS = 10"
   ]
  },
  {
   "cell_type": "code",
   "execution_count": null,
   "metadata": {},
   "outputs": [],
   "source": [
    "# Download the dataset\n",
    "cifar10 = torchvision.datasets.CIFAR10(root='./data', train=True, download=True)\n",
    "\n",
    "print(\"Classes:\", *cifar10.classes)"
   ]
  },
  {
   "cell_type": "code",
   "execution_count": null,
   "metadata": {},
   "outputs": [],
   "source": [
    "# Extract a category of images\n",
    "real_images = cifar10.data[ [i for i, t in enumerate(cifar10.targets) if t == cifar10.classes.index('automobile')] ] / (255 / 2) - 1\n",
    "\n",
    "# Use floats\n",
    "real_images = np.array(real_images, dtype=np.float32)\n",
    "\n",
    "# Put the channel at the end\n",
    "real_images = np.swapaxes(real_images, 1, 3)\n",
    "\n",
    "show_grid(real_images[:25])"
   ]
  },
  {
   "cell_type": "code",
   "execution_count": null,
   "metadata": {},
   "outputs": [],
   "source": [
    "def get_beta(step):\n",
    "    #return 0.0001 + (step / NB_STEPS) * 0.02\n",
    "    return 0.0001 + (step / NB_STEPS) * 0.15\n",
    "\n",
    "# Adds one or several times noise to an image\n",
    "def add_noise(img, first_step, last_step = -1):\n",
    "    if last_step == -1:\n",
    "        last_step = first_step + 1\n",
    "\n",
    "    alpha = 1\n",
    "    for k in range(first_step, last_step):\n",
    "        alpha *= (1 - get_beta(k))\n",
    "    \n",
    "    return math.sqrt(alpha) * img + np.random.normal(scale=math.sqrt(1 - alpha), size=img.shape)"
   ]
  },
  {
   "cell_type": "code",
   "execution_count": null,
   "metadata": {},
   "outputs": [],
   "source": [
    "# Add noise to an image progressively\n",
    "noisy = [real_images[0]]\n",
    "\n",
    "for k in range(NB_STEPS):\n",
    "    noisy.append(add_noise(noisy[-1], k))\n",
    "\n",
    "show_grid(np.array(noisy))\n",
    "\n",
    "del noisy"
   ]
  },
  {
   "cell_type": "code",
   "execution_count": null,
   "metadata": {},
   "outputs": [],
   "source": [
    "# Add noise from the beginning each time\n",
    "noisy = [real_images[0]]\n",
    "\n",
    "for k in range(NB_STEPS):\n",
    "    noisy.append(add_noise(noisy[0], 0, k + 1))\n",
    "\n",
    "show_grid(np.array(noisy))\n",
    "\n",
    "del noisy"
   ]
  },
  {
   "cell_type": "code",
   "execution_count": null,
   "metadata": {},
   "outputs": [],
   "source": [
    "# Generate noise for all the images\n",
    "pairs = []\n",
    "\n",
    "for i in tqdm(range(len(real_images))):\n",
    "    im = real_images[i]\n",
    "\n",
    "    for k in range(NB_STEPS):\n",
    "        noised_k = add_noise(im, 0, k)\n",
    "        next_noised = add_noise(noised_k, k, k+1)\n",
    "        pairs.append((np.array(noised_k, dtype=np.float32), np.array(next_noised, dtype=np.float32), np.array(k / NB_STEPS, dtype=np.float32)))\n",
    "        break\n",
    "    break"
   ]
  },
  {
   "cell_type": "markdown",
   "metadata": {},
   "source": [
    "## Training"
   ]
  },
  {
   "cell_type": "code",
   "execution_count": null,
   "metadata": {},
   "outputs": [],
   "source": [
    "model = Model().to(device)\n",
    "\n",
    "optimizer = torch.optim.Adam(model.parameters(), lr=0.001)\n",
    "loss_fn = nn.L1Loss()\n",
    "\n",
    "data_loader = torch.utils.data.DataLoader(pairs, batch_size=1024, shuffle=True)"
   ]
  },
  {
   "cell_type": "code",
   "execution_count": null,
   "metadata": {},
   "outputs": [],
   "source": [
    "model.train()\n",
    "\n",
    "loss_hist = []\n",
    "\n",
    "for epoch in tqdm(range(NB_EPOCHS)):\n",
    "    \n",
    "    for batch, (target, noised, time) in enumerate(data_loader):\n",
    "        optimizer.zero_grad()\n",
    "\n",
    "        target = target.to(device)\n",
    "        noised = noised.to(device)\n",
    "        time = time.to(device)\n",
    "\n",
    "        pred = model(noised, time)\n",
    "\n",
    "        loss = loss_fn(pred, target)\n",
    "        loss_hist.append(loss.item())\n",
    "\n",
    "        loss.backward()\n",
    "        optimizer.step()"
   ]
  },
  {
   "cell_type": "code",
   "execution_count": null,
   "metadata": {},
   "outputs": [],
   "source": [
    "plt.plot(loss_hist)"
   ]
  },
  {
   "cell_type": "markdown",
   "metadata": {},
   "source": [
    "## Evaluation"
   ]
  },
  {
   "cell_type": "code",
   "execution_count": null,
   "metadata": {},
   "outputs": [],
   "source": [
    "def generate_image():\n",
    "    noisy = np.random.normal(size=(3, 32, 32))\n",
    "    \n",
    "    denoised = [torch.Tensor([noisy]).to(device)]\n",
    "\n",
    "    for k in range(NB_STEPS):\n",
    "        t = (NB_STEPS - k - 1) / NB_STEPS\n",
    "        denoised.append(model(denoised[-1], torch.Tensor([t]).to(device)))\n",
    "    \n",
    "    show_grid(np.array([d.detach().cpu().numpy().squeeze(0) for d in denoised]))\n",
    "\n",
    "generate_image()"
   ]
  },
  {
   "cell_type": "code",
   "execution_count": null,
   "metadata": {},
   "outputs": [],
   "source": [
    "im1, im2, t = pairs[0]\n",
    "\n",
    "pred = model(torch.Tensor(im2).to(device).unsqueeze(0), torch.Tensor(t).to(device).unsqueeze(0)).squeeze()\n",
    "pred = pred.detach().cpu().numpy()\n",
    "\n",
    "show_grid(np.array([im1, im2, pred]))"
   ]
  }
 ],
 "metadata": {
  "kernelspec": {
   "display_name": "epfl-dlb",
   "language": "python",
   "name": "python3"
  },
  "language_info": {
   "codemirror_mode": {
    "name": "ipython",
    "version": 3
   },
   "file_extension": ".py",
   "mimetype": "text/x-python",
   "name": "python",
   "nbconvert_exporter": "python",
   "pygments_lexer": "ipython3",
   "version": "3.11.5"
  }
 },
 "nbformat": 4,
 "nbformat_minor": 2
}
